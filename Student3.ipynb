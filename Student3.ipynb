{
  "nbformat": 4,
  "nbformat_minor": 0,
  "metadata": {
    "colab": {
      "provenance": [],
      "authorship_tag": "ABX9TyPG4XfAve1YjMKvaTsG6KQ2",
      "include_colab_link": true
    },
    "kernelspec": {
      "name": "python3",
      "display_name": "Python 3"
    },
    "language_info": {
      "name": "python"
    }
  },
  "cells": [
    {
      "cell_type": "markdown",
      "metadata": {
        "id": "view-in-github",
        "colab_type": "text"
      },
      "source": [
        "<a href=\"https://colab.research.google.com/github/Madhangowda-maddy/Smart-Business-Model-for-Badminton-Court-Operations-from-Setup-to-Marketing/blob/main/Student3.ipynb\" target=\"_parent\"><img src=\"https://colab.research.google.com/assets/colab-badge.svg\" alt=\"Open In Colab\"/></a>"
      ]
    },
    {
      "cell_type": "code",
      "execution_count": 1,
      "metadata": {
        "id": "i02Ld7_4akUn",
        "colab": {
          "base_uri": "https://localhost:8080/"
        },
        "outputId": "17314f4a-3a71-46ed-8d55-96285830b300"
      },
      "outputs": [
        {
          "output_type": "stream",
          "name": "stdout",
          "text": [
            "\n",
            " Court Availability:\n",
            "Open daily from 10:00 AM to 11:00 PM (13 hours per day)\n",
            "\n",
            "Enter the day (e.g., Monday, Saturday): m\n",
            "Enter number of hours to book the court (max 13): 10\n",
            "\n",
            " Court rental cost on M: €45.00\n",
            "\n",
            " Value Added Services\n",
            "Enter coaching hours (per person): 1\n",
            "Enter number of rackets to rent: 2\n",
            "Enter number of memberships to purchase: 0\n",
            "\n",
            " Cost Summary\n",
            "Court rental: €45.00\n",
            "Value added services: €7.00\n",
            "Total cost for booking + services: €52.00\n"
          ]
        }
      ],
      "source": [
        "# Badminton Court Booking System\n",
        "\n",
        "def display_schedule():\n",
        "    print(\"\\n Court Availability:\")\n",
        "    print(\"Open daily from 10:00 AM to 11:00 PM (13 hours per day)\")\n",
        "\n",
        "def get_hourly_rate(day_type):\n",
        "    day_type = day_type.lower()\n",
        "    if day_type in [\"saturday\", \"sunday\"]:\n",
        "        return 7.0  # Weekend rate\n",
        "    else:\n",
        "        return 4.5  # Weekday rate\n",
        "\n",
        "def calculate_booking_cost(day_type, hours_booked):\n",
        "    rate = get_hourly_rate(day_type)\n",
        "    return rate * hours_booked\n",
        "\n",
        "def value_added_services(coaching_hours, rackets_rented, memberships):\n",
        "    coaching_rate = 5.0       # Per hour per person\n",
        "    racket_rate = 1.0         # Per racket\n",
        "    membership_rate = 79.0    # Per month\n",
        "    total_coaching = coaching_hours * coaching_rate\n",
        "    total_rackets = rackets_rented * racket_rate\n",
        "    total_membership = memberships * membership_rate\n",
        "    total_service_cost = total_coaching + total_rackets + total_membership\n",
        "    return total_service_cost\n",
        "\n",
        "# --- Program starts here ---\n",
        "display_schedule()\n",
        "\n",
        "# Input booking details\n",
        "day_type = input(\"\\nEnter the day (e.g., Monday, Saturday): \")\n",
        "hours_booked = int(input(\"Enter number of hours to book the court (max 13): \"))\n",
        "\n",
        "# Validate hour range\n",
        "if hours_booked < 1 or hours_booked > 13:\n",
        "    print(\"Invalid number of hours. Please enter a value between 1 and 13.\")\n",
        "    exit()\n",
        "\n",
        "# Calculate court rental cost\n",
        "booking_cost = calculate_booking_cost(day_type, hours_booked)\n",
        "print(f\"\\n Court rental cost on {day_type.capitalize()}: €{booking_cost:.2f}\")\n",
        "\n",
        "# Input value-added services\n",
        "print(\"\\n Value Added Services\")\n",
        "coaching_hours = int(input(\"Enter coaching hours (per person): \"))\n",
        "rackets_rented = int(input(\"Enter number of rackets to rent: \"))\n",
        "memberships = int(input(\"Enter number of memberships to purchase: \"))\n",
        "\n",
        "# Calculate service cost\n",
        "services_cost = value_added_services(coaching_hours, rackets_rented, memberships)\n",
        "\n",
        "# Total cost summary\n",
        "total = booking_cost + services_cost\n",
        "print(\"\\n Cost Summary\")\n",
        "print(f\"Court rental: €{booking_cost:.2f}\")\n",
        "print(f\"Value added services: €{services_cost:.2f}\")\n",
        "print(f\"Total cost for booking + services: €{total:.2f}\")\n"
      ]
    }
  ]
}