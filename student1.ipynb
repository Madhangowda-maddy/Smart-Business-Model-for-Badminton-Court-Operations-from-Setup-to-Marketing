{
  "nbformat": 4,
  "nbformat_minor": 0,
  "metadata": {
    "colab": {
      "provenance": [],
      "authorship_tag": "ABX9TyMx/a9DP1pohWCJ+R+g6waW",
      "include_colab_link": true
    },
    "kernelspec": {
      "name": "python3",
      "display_name": "Python 3"
    },
    "language_info": {
      "name": "python"
    }
  },
  "cells": [
    {
      "cell_type": "markdown",
      "metadata": {
        "id": "view-in-github",
        "colab_type": "text"
      },
      "source": [
        "<a href=\"https://colab.research.google.com/github/Madhangowda-maddy/Smart-Business-Model-for-Badminton-Court-Operations-from-Setup-to-Marketing/blob/main/student1.ipynb\" target=\"_parent\"><img src=\"https://colab.research.google.com/assets/colab-badge.svg\" alt=\"Open In Colab\"/></a>"
      ]
    },
    {
      "cell_type": "code",
      "execution_count": null,
      "metadata": {
        "id": "DAgWXdjcVHCp"
      },
      "outputs": [],
      "source": [
        "def calculate_setup_cost():\n",
        "    print(\" Badminton Court Setup Cost Estimator\\n\")\n",
        "\n",
        "    # Ask user for number of courts\n",
        "    try:\n",
        "        number_of_courts = int(input(\"Enter the number of badminton courts to set up: \"))\n",
        "        if number_of_courts < 1:\n",
        "            raise ValueError(\"Number of courts must be at least 1.\")\n",
        "    except ValueError as e:\n",
        "        print(f\" Invalid input: {e}\")\n",
        "        return\n",
        "\n",
        "    # Per court material and facility costs\n",
        "    flooring = 3600                   # Synthetic flooring (300 m²)\n",
        "    poles = 2 * 120                   # 2 poles per court\n",
        "    net = 80                          # 1 net per court\n",
        "    lighting = 4 * 260                # 4 lights per court\n",
        "    markings = 180                   # Court markings\n",
        "    labour = 1499                     # Labour charges\n",
        "    chairs = 2 * 45                   # 2 chairs per court\n",
        "    fan = 40                          # 1 fan per court\n",
        "    reception = 76                    # 1 reception desk per court\n",
        "\n",
        "    # Total per court\n",
        "    per_court_total = flooring + poles + net + lighting + markings + labour + chairs + fan + reception\n",
        "    overall_total = per_court_total * number_of_courts\n",
        "\n",
        "    # Print breakdown\n",
        "    print(\"\\n Cost Breakdown Per Court:\")\n",
        "    print(f\"  Flooring: €{flooring}\")\n",
        "    print(f\"  Poles (2): €{poles}\")\n",
        "    print(f\"  Net (1): €{net}\")\n",
        "    print(f\"  Lighting (4): €{lighting}\")\n",
        "    print(f\"  Court Markings: €{markings}\")\n",
        "    print(f\"  Labour: €{labour}\")\n",
        "    print(f\"  Chairs (2): €{chairs}\")\n",
        "    print(f\"  Fan (1): €{fan}\")\n",
        "    print(f\"  Reception Desk: €{reception}\")\n",
        "    print(f\"  Total per court: €{per_court_total}\")\n",
        "\n",
        "    print(\"\\n Total Setup Cost for All Courts:\")\n",
        "    print(f\"  Courts: {number_of_courts}\")\n",
        "    print(f\"  Grand Total: €{overall_total}\")\n",
        "\n",
        "# Run the function\n",
        "calculate_setup_cost()"
      ]
    }
  ]
}