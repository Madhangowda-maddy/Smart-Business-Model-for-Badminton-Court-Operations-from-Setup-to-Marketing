{
  "nbformat": 4,
  "nbformat_minor": 0,
  "metadata": {
    "colab": {
      "provenance": [],
      "authorship_tag": "ABX9TyOKk/YApzVMBwt098aTdhat",
      "include_colab_link": true
    },
    "kernelspec": {
      "name": "python3",
      "display_name": "Python 3"
    },
    "language_info": {
      "name": "python"
    }
  },
  "cells": [
    {
      "cell_type": "markdown",
      "metadata": {
        "id": "view-in-github",
        "colab_type": "text"
      },
      "source": [
        "<a href=\"https://colab.research.google.com/github/Madhangowda-maddy/Smart-Business-Model-for-Badminton-Court-Operations-from-Setup-to-Marketing/blob/main/Student5.ipynb\" target=\"_parent\"><img src=\"https://colab.research.google.com/assets/colab-badge.svg\" alt=\"Open In Colab\"/></a>"
      ]
    },
    {
      "cell_type": "code",
      "execution_count": null,
      "metadata": {
        "colab": {
          "base_uri": "https://localhost:8080/"
        },
        "id": "Z2VOApLoa4cM",
        "outputId": "861aac02-a0b2-485f-ac93-d5bdf19e79a3"
      },
      "outputs": [
        {
          "output_type": "stream",
          "name": "stdout",
          "text": [
            "Welcome to Badminton Court Booking System\n",
            "\n",
            "Is this your first time booking? (yes/no): NO\n",
            "How many hours do you want to book? (1 to 13): 1\n",
            "What time will your booking start? (e.g., 12PM, 3PM, 6PM or just 12, 3, 6): 6PM\n",
            "Are you a student? (yes/no): YES\n",
            "Is this a group booking (all 4 courts)? (yes/no): NO\n",
            " Student discount applied: €2.50 per hour\n",
            "\n",
            " Booking Summary:\n",
            "Start Time: 6PM\n",
            "Hours Booked: 1\n",
            "Total Cost: €2.50\n"
          ]
        }
      ],
      "source": [
        "def badminton_booking():\n",
        "    print(\"Welcome to Badminton Court Booking System\\n\")\n",
        "\n",
        "    # Check if first time\n",
        "    first_time = input(\"Is this your first time booking? (yes/no): \").lower()\n",
        "    if first_time == \"yes\":\n",
        "        print(\" Congratulations! Your first game is FREE! Total cost: €0.00\")\n",
        "        return\n",
        "\n",
        "    # Get booking hours\n",
        "    hours = int(input(\"How many hours do you want to book? (1 to 13): \"))\n",
        "    time_input = input(\"What time will your booking start? (e.g., 12PM, 3PM, 6PM or just 12, 3, 6): \").upper()\n",
        "\n",
        "    # Normalize time input to format like \"12PM\"\n",
        "    if time_input.endswith(\"PM\") or time_input.endswith(\"AM\"):\n",
        "        time = time_input\n",
        "    else:\n",
        "        time = time_input + \"PM\"  # Default to PM as courts are open 10AM to 11PM\n",
        "\n",
        "    # Get student and group booking info\n",
        "    student = input(\"Are you a student? (yes/no): \").lower()\n",
        "    group = input(\"Is this a group booking (all 4 courts)? (yes/no): \").lower()\n",
        "\n",
        "    # Check if off-peak hour\n",
        "    least_occupied_hours = [\"12PM\", \"1PM\", \"2PM\", \"3PM\", \"4PM\"]\n",
        "\n",
        "    # Determine cost per hour\n",
        "    if time in least_occupied_hours:\n",
        "        cost_per_hour = 2.5\n",
        "        print(\" Off-peak booking: €2.50 per hour (12PM to 4PM)\")\n",
        "    elif group == \"yes\":\n",
        "        cost_per_hour = 13.99\n",
        "        print(\" Group booking deal applied: €13.99 per hour for all 4 courts\")\n",
        "    elif student == \"yes\":\n",
        "        cost_per_hour = 2.5\n",
        "        print(\" Student discount applied: €2.50 per hour\")\n",
        "    else:\n",
        "        cost_per_hour = 4.5\n",
        "        print(\" Standard rate applied: €4.50 per hour\")\n",
        "\n",
        "    # Calculate total\n",
        "    total_cost = cost_per_hour * hours\n",
        "\n",
        "    # Print summary\n",
        "    print(f\"\\n Booking Summary:\")\n",
        "    print(f\"Start Time: {time}\")\n",
        "    print(f\"Hours Booked: {hours}\")\n",
        "    print(f\"Total Cost: €{total_cost:.2f}\")\n",
        "\n",
        "# Run the booking system\n",
        "badminton_booking()\n"
      ]
    }
  ]
}