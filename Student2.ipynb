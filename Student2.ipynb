{
  "nbformat": 4,
  "nbformat_minor": 0,
  "metadata": {
    "colab": {
      "provenance": [],
      "authorship_tag": "ABX9TyNwNXediEjufZrNbdm3rYWN",
      "include_colab_link": true
    },
    "kernelspec": {
      "name": "python3",
      "display_name": "Python 3"
    },
    "language_info": {
      "name": "python"
    }
  },
  "cells": [
    {
      "cell_type": "markdown",
      "metadata": {
        "id": "view-in-github",
        "colab_type": "text"
      },
      "source": [
        "<a href=\"https://colab.research.google.com/github/Madhangowda-maddy/Smart-Business-Model-for-Badminton-Court-Operations-from-Setup-to-Marketing/blob/main/Student2.ipynb\" target=\"_parent\"><img src=\"https://colab.research.google.com/assets/colab-badge.svg\" alt=\"Open In Colab\"/></a>"
      ]
    },
    {
      "cell_type": "code",
      "execution_count": 1,
      "metadata": {
        "colab": {
          "base_uri": "https://localhost:8080/"
        },
        "id": "fsnijbZ4WMfB",
        "outputId": "23f75a2b-6f29-476a-948f-a7d1f92de559"
      },
      "outputs": [
        {
          "output_type": "stream",
          "name": "stdout",
          "text": [
            " Welcome to the Badminton Court Monthly Cost Calculator\n",
            "\n",
            "Enter the number of badminton courts: 1\n",
            "Enter the number of Receptionists: 2\n",
            "Enter the number of Trainees: 2\n",
            "Enter the number of Cleaners: 2\n",
            "\n",
            " Monthly Operational Cost Report\n",
            " Number of courts: 1\n",
            " Total staff members: 6\n",
            " Staff Breakdown:\n",
            "  - Receptionists: 2 staff, €3200\n",
            "  - Trainees: 2 staff, €4500\n",
            "  - Cleaners: 2 staff, €1200\n",
            "\n",
            " Staff cost total: €8900\n",
            " Maintenance cost (€240 x 1): €240\n",
            " Energy cost (€799 x 1): €799\n",
            "\n",
            " Total Monthly Operational Cost: €9939\n"
          ]
        }
      ],
      "source": [
        "def calculate_monthly_costs():\n",
        "    print(\" Welcome to the Badminton Court Monthly Cost Calculator\\n\")\n",
        "\n",
        "    try:\n",
        "        # Input: number of courts\n",
        "        num_courts = int(input(\"Enter the number of badminton courts: \"))\n",
        "        if num_courts < 1:\n",
        "            raise ValueError(\"Number of courts must be at least 1.\")\n",
        "\n",
        "        # Input: staff counts\n",
        "        receptionists = int(input(\"Enter the number of Receptionists: \"))\n",
        "        trainees = int(input(\"Enter the number of Trainees: \"))\n",
        "        cleaners = int(input(\"Enter the number of Cleaners: \"))\n",
        "\n",
        "        if any(n < 0 for n in [receptionists, trainees, cleaners]):\n",
        "            raise ValueError(\"Staff counts cannot be negative.\")\n",
        "\n",
        "    except ValueError as e:\n",
        "        print(f\" Invalid input: {e}\")\n",
        "        return\n",
        "\n",
        "    # Salaries per person\n",
        "    salary_per_receptionist = 1600\n",
        "    salary_per_trainee = 2250\n",
        "    salary_per_cleaner = 600\n",
        "\n",
        "    # Total staff cost\n",
        "    total_receptionist_cost = receptionists * salary_per_receptionist\n",
        "    total_trainee_cost = trainees * salary_per_trainee\n",
        "    total_cleaner_cost = cleaners * salary_per_cleaner\n",
        "    total_staff_cost = total_receptionist_cost + total_trainee_cost + total_cleaner_cost\n",
        "\n",
        "    # Fixed monthly costs per court\n",
        "    maintenance_per_court = 240\n",
        "    energy_per_court = 799\n",
        "\n",
        "    # Scaled by number of courts\n",
        "    total_maintenance_cost = maintenance_per_court * num_courts\n",
        "    total_energy_cost = energy_per_court * num_courts\n",
        "\n",
        "    # Total monthly operational cost\n",
        "    total_monthly_cost = total_staff_cost + total_maintenance_cost + total_energy_cost\n",
        "    total_staff = receptionists + trainees + cleaners\n",
        "\n",
        "    #  Output\n",
        "    print(\"\\n Monthly Operational Cost Report\")\n",
        "    print(f\" Number of courts: {num_courts}\")\n",
        "    print(f\" Total staff members: {total_staff}\")\n",
        "    print(\" Staff Breakdown:\")\n",
        "    print(f\"  - Receptionists: {receptionists} staff, €{total_receptionist_cost}\")\n",
        "    print(f\"  - Trainees: {trainees} staff, €{total_trainee_cost}\")\n",
        "    print(f\"  - Cleaners: {cleaners} staff, €{total_cleaner_cost}\")\n",
        "\n",
        "    print(f\"\\n Staff cost total: €{total_staff_cost}\")\n",
        "    print(f\" Maintenance cost (€{maintenance_per_court} x {num_courts}): €{total_maintenance_cost}\")\n",
        "    print(f\" Energy cost (€{energy_per_court} x {num_courts}): €{total_energy_cost}\")\n",
        "    print(f\"\\n Total Monthly Operational Cost: €{total_monthly_cost}\")\n",
        "\n",
        "# Run the function\n",
        "calculate_monthly_costs()"
      ]
    }
  ]
}